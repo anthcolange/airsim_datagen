{
 "cells": [
  {
   "cell_type": "code",
   "execution_count": 68,
   "metadata": {},
   "outputs": [],
   "source": [
    "from PIL import Image\n",
    "import numpy as np\n",
    "import pandas as pd\n",
    "from tqdm.notebook import tqdm\n",
    "from matplotlib.pyplot import imshow\n",
    "import matplotlib.pyplot as plt\n",
    "import scipy\n",
    "import skimage\n",
    "import skimage.color\n",
    "from PIL import Image\n",
    "import cv2\n",
    "%matplotlib inline\n",
    "from pypardiso import spsolve\n"
   ]
  },
  {
   "cell_type": "code",
   "execution_count": 72,
   "metadata": {},
   "outputs": [],
   "source": [
    "#Define dataset directory and pandas dataframe\n",
    "depth_dir = \"C:/Users/anthc/Documents/Penn Spring 2020/RoboFly/train/\"\n",
    "orig = \"C:/Users/anthc/Documents/Penn Spring 2020/RoboFly/2011_09_26/2011_09_26_drive_0001_sync/image_02/data/0000000102.png\"\n",
    "img1 = \"C:/Users/anthc/Documents/Penn Spring 2020/RoboFly/train/2011_09_26_drive_0001_sync/proj_depth/groundtruth/image_02/0000000102.png\"\n",
    "img2 = \"C:/Users/anthc/Documents/Penn Spring 2020/RoboFly/train/2011_09_26_drive_0001_sync/proj_depth/groundtruth/image_03/0000000102.png\""
   ]
  },
  {
   "cell_type": "code",
   "execution_count": 73,
   "metadata": {},
   "outputs": [
    {
     "data": {
      "text/plain": [
       "<matplotlib.image.AxesImage at 0x1ad1a6723c8>"
      ]
     },
     "execution_count": 73,
     "metadata": {},
     "output_type": "execute_result"
    },
    {
     "data": {
      "image/png": "[encoded data removed]",
      "text/plain": [
       "<Figure size 432x288 with 1 Axes>"
      ]
     },
     "metadata": {
      "needs_background": "light"
     },
     "output_type": "display_data"
    }
   ],
   "source": [
    "img1 = np.array(Image.open(img1))\n",
    "img2 = np.array(Image.open(img2))\n",
    "imshow(img1 + img2)"
   ]
  },
  {
   "cell_type": "code",
   "execution_count": 47,
   "metadata": {},
   "outputs": [
    {
     "data": {
      "text/plain": [
       "<matplotlib.image.AxesImage at 0x1ad157917c8>"
      ]
     },
     "execution_count": 47,
     "metadata": {},
     "output_type": "execute_result"
    },
    {
     "data": {
      "image/png": "[encoded data removed]",
      "text/plain": [
       "<Figure size 432x288 with 1 Axes>"
      ]
     },
     "metadata": {
      "needs_background": "light"
     },
     "output_type": "display_data"
    }
   ],
   "source": [
    "#https://github.com/mrharicot/monodepth/blob/master/utils/evaluation_utils.py#L29\n",
    "\n",
    "width_to_focal = dict()\n",
    "width_to_focal[1242] = 721.5377\n",
    "width_to_focal[1241] = 718.856\n",
    "width_to_focal[1224] = 707.0493\n",
    "width_to_focal[1238] = 718.3351\n",
    "\n",
    "gt_disp = cv2.imread(img, -1)\n",
    "gt_disp = gt_disp.astype(np.float32) / 256\n",
    "        \n",
    "height, width = gt_disp.shape\n",
    "mask = gt_disp > 0\n",
    "\n",
    "gt_depth = width_to_focal[width] * 0.54 / (gt_disp + (1.0 - mask))\n",
    "    \n",
    "imshow(gt_depth)"
   ]
  },
  {
   "cell_type": "code",
   "execution_count": 7,
   "metadata": {},
   "outputs": [],
   "source": [
    "#https://github.com/soulslicer/kitti_depthmap\n",
    "def fill_depth_colorization(imgRgb=None, imgDepthInput=None, alpha=1):\n",
    "\timgIsNoise = imgDepthInput == 0\n",
    "\tmaxImgAbsDepth = np.max(imgDepthInput)\n",
    "\timgDepth = imgDepthInput / maxImgAbsDepth\n",
    "\timgDepth[imgDepth > 1] = 1\n",
    "\t(H, W) = imgDepth.shape\n",
    "\tnumPix = H * W\n",
    "\tindsM = np.arange(numPix).reshape((W, H)).transpose()\n",
    "\tknownValMask = (imgIsNoise == False).astype(int)\n",
    "\tgrayImg = skimage.color.rgb2gray(imgRgb)\n",
    "\twinRad = 1\n",
    "\tlen_ = 0\n",
    "\tabsImgNdx = 0\n",
    "\tlen_window = (2 * winRad + 1) ** 2\n",
    "\tlen_zeros = numPix * len_window\n",
    "\n",
    "\tcols = np.zeros(len_zeros) - 1\n",
    "\trows = np.zeros(len_zeros) - 1\n",
    "\tvals = np.zeros(len_zeros) - 1\n",
    "\tgvals = np.zeros(len_window) - 1\n",
    "\n",
    "\tfor j in range(W):\n",
    "\t\tfor i in range(H):\n",
    "\t\t\tnWin = 0\n",
    "\t\t\tfor ii in range(max(0, i - winRad), min(i + winRad + 1, H)):\n",
    "\t\t\t\tfor jj in range(max(0, j - winRad), min(j + winRad + 1, W)):\n",
    "\t\t\t\t\tif ii == i and jj == j:\n",
    "\t\t\t\t\t\tcontinue\n",
    "\n",
    "\t\t\t\t\trows[len_] = absImgNdx\n",
    "\t\t\t\t\tcols[len_] = indsM[ii, jj]\n",
    "\t\t\t\t\tgvals[nWin] = grayImg[ii, jj]\n",
    "\n",
    "\t\t\t\t\tlen_ = len_ + 1\n",
    "\t\t\t\t\tnWin = nWin + 1\n",
    "\n",
    "\t\t\tcurVal = grayImg[i, j]\n",
    "\t\t\tgvals[nWin] = curVal\n",
    "\t\t\tc_var = np.mean((gvals[:nWin + 1] - np.mean(gvals[:nWin+ 1])) ** 2)\n",
    "\n",
    "\t\t\tcsig = c_var * 0.6\n",
    "\t\t\tmgv = np.min((gvals[:nWin] - curVal) ** 2)\n",
    "\t\t\tif csig < -mgv / np.log(0.01):\n",
    "\t\t\t\tcsig = -mgv / np.log(0.01)\n",
    "\n",
    "\t\t\tif csig < 2e-06:\n",
    "\t\t\t\tcsig = 2e-06\n",
    "\n",
    "\t\t\tgvals[:nWin] = np.exp(-(gvals[:nWin] - curVal) ** 2 / csig)\n",
    "\t\t\tgvals[:nWin] = gvals[:nWin] / sum(gvals[:nWin])\n",
    "\t\t\tvals[len_ - nWin:len_] = -gvals[:nWin]\n",
    "\n",
    "\t  \t\t# Now the self-reference (along the diagonal).\n",
    "\t\t\trows[len_] = absImgNdx\n",
    "\t\t\tcols[len_] = absImgNdx\n",
    "\t\t\tvals[len_] = 1  # sum(gvals(1:nWin))\n",
    "\n",
    "\t\t\tlen_ = len_ + 1\n",
    "\t\t\tabsImgNdx = absImgNdx + 1\n",
    "\n",
    "\tvals = vals[:len_]\n",
    "\tcols = cols[:len_]\n",
    "\trows = rows[:len_]\n",
    "\tA = scipy.sparse.csr_matrix((vals, (rows, cols)), (numPix, numPix))\n",
    "\n",
    "\trows = np.arange(0, numPix)\n",
    "\tcols = np.arange(0, numPix)\n",
    "\tvals = (knownValMask * alpha).transpose().reshape(numPix)\n",
    "\tG = scipy.sparse.csr_matrix((vals, (rows, cols)), (numPix, numPix))\n",
    "\n",
    "\tA = A + G\n",
    "\tb = np.multiply(vals.reshape(numPix), imgDepth.flatten('F'))\n",
    "\n",
    "\t#print ('Solving system..')\n",
    "\n",
    "\tnew_vals = spsolve(A, b)\n",
    "\tnew_vals = np.reshape(new_vals, (H, W), 'F')\n",
    "\n",
    "\t#print ('Done.')\n",
    "\n",
    "\tdenoisedDepthImg = new_vals * maxImgAbsDepth\n",
    "    \n",
    "\toutput = denoisedDepthImg.reshape((H, W)).astype('float32')\n",
    "\n",
    "\toutput = np.multiply(output, (1-knownValMask)) + imgDepthInput\n",
    "    \n",
    "\treturn output"
   ]
  },
  {
   "cell_type": "code",
   "execution_count": 8,
   "metadata": {},
   "outputs": [],
   "source": [
    "def depth_read(filename):\n",
    "    # loads depth map D from png file\n",
    "    # and returns it as a numpy array,\n",
    "    # for details see readme.txt\n",
    "\n",
    "    depth_png = np.array(Image.open(filename), dtype=int)\n",
    "    # make sure we have a proper 16bit depth map here.. not 8bit!\n",
    "    assert(np.max(depth_png) > 255)\n",
    "\n",
    "    depth = depth_png.astype(np.float) / 256.\n",
    "    depth[depth_png == 0] = -1.\n",
    "    return depth"
   ]
  },
  {
   "cell_type": "code",
   "execution_count": 9,
   "metadata": {},
   "outputs": [
    {
     "name": "stdout",
     "output_type": "stream",
     "text": [
      "82.90234375\n"
     ]
    }
   ],
   "source": [
    "depth_map = depth_read(img)\n",
    "print(np.max(depth_map))"
   ]
  },
  {
   "cell_type": "code",
   "execution_count": 10,
   "metadata": {},
   "outputs": [
    {
     "data": {
      "text/plain": [
       "<matplotlib.image.AxesImage at 0x1ad15619d88>"
      ]
     },
     "execution_count": 10,
     "metadata": {},
     "output_type": "execute_result"
    },
    {
     "data": {
      "image/png": "[encoded data removed]",
      "text/plain": [
       "<Figure size 432x288 with 1 Axes>"
      ]
     },
     "metadata": {
      "needs_background": "light"
     },
     "output_type": "display_data"
    }
   ],
   "source": [
    "imshow(depth_map)"
   ]
  },
  {
   "cell_type": "code",
   "execution_count": 11,
   "metadata": {},
   "outputs": [
    {
     "ename": "AttributeError",
     "evalue": "'str' object has no attribute 'ndim'",
     "output_type": "error",
     "traceback": [
      "\u001b[1;31m---------------------------------------------------------------------------\u001b[0m",
      "\u001b[1;31mAttributeError\u001b[0m                            Traceback (most recent call last)",
      "\u001b[1;32m<ipython-input-11-6c84645a324b>\u001b[0m in \u001b[0;36m<module>\u001b[1;34m\u001b[0m\n\u001b[1;32m----> 1\u001b[1;33m \u001b[0mx\u001b[0m \u001b[1;33m=\u001b[0m \u001b[0mfill_depth_colorization\u001b[0m\u001b[1;33m(\u001b[0m\u001b[0mimgRgb\u001b[0m\u001b[1;33m=\u001b[0m\u001b[0morig\u001b[0m\u001b[1;33m,\u001b[0m \u001b[0mimgDepthInput\u001b[0m\u001b[1;33m=\u001b[0m\u001b[0mdepth_map\u001b[0m\u001b[1;33m,\u001b[0m \u001b[0malpha\u001b[0m\u001b[1;33m=\u001b[0m\u001b[1;36m1\u001b[0m\u001b[1;33m)\u001b[0m\u001b[1;33m\u001b[0m\u001b[1;33m\u001b[0m\u001b[0m\n\u001b[0m",
      "\u001b[1;32m<ipython-input-7-25e4e3969497>\u001b[0m in \u001b[0;36mfill_depth_colorization\u001b[1;34m(imgRgb, imgDepthInput, alpha)\u001b[0m\n\u001b[0;32m      9\u001b[0m         \u001b[0mindsM\u001b[0m \u001b[1;33m=\u001b[0m \u001b[0mnp\u001b[0m\u001b[1;33m.\u001b[0m\u001b[0marange\u001b[0m\u001b[1;33m(\u001b[0m\u001b[0mnumPix\u001b[0m\u001b[1;33m)\u001b[0m\u001b[1;33m.\u001b[0m\u001b[0mreshape\u001b[0m\u001b[1;33m(\u001b[0m\u001b[1;33m(\u001b[0m\u001b[0mW\u001b[0m\u001b[1;33m,\u001b[0m \u001b[0mH\u001b[0m\u001b[1;33m)\u001b[0m\u001b[1;33m)\u001b[0m\u001b[1;33m.\u001b[0m\u001b[0mtranspose\u001b[0m\u001b[1;33m(\u001b[0m\u001b[1;33m)\u001b[0m\u001b[1;33m\u001b[0m\u001b[1;33m\u001b[0m\u001b[0m\n\u001b[0;32m     10\u001b[0m         \u001b[0mknownValMask\u001b[0m \u001b[1;33m=\u001b[0m \u001b[1;33m(\u001b[0m\u001b[0mimgIsNoise\u001b[0m \u001b[1;33m==\u001b[0m \u001b[1;32mFalse\u001b[0m\u001b[1;33m)\u001b[0m\u001b[1;33m.\u001b[0m\u001b[0mastype\u001b[0m\u001b[1;33m(\u001b[0m\u001b[0mint\u001b[0m\u001b[1;33m)\u001b[0m\u001b[1;33m\u001b[0m\u001b[1;33m\u001b[0m\u001b[0m\n\u001b[1;32m---> 11\u001b[1;33m         \u001b[0mgrayImg\u001b[0m \u001b[1;33m=\u001b[0m \u001b[0mskimage\u001b[0m\u001b[1;33m.\u001b[0m\u001b[0mcolor\u001b[0m\u001b[1;33m.\u001b[0m\u001b[0mrgb2gray\u001b[0m\u001b[1;33m(\u001b[0m\u001b[0mimgRgb\u001b[0m\u001b[1;33m)\u001b[0m\u001b[1;33m\u001b[0m\u001b[1;33m\u001b[0m\u001b[0m\n\u001b[0m\u001b[0;32m     12\u001b[0m         \u001b[0mwinRad\u001b[0m \u001b[1;33m=\u001b[0m \u001b[1;36m1\u001b[0m\u001b[1;33m\u001b[0m\u001b[1;33m\u001b[0m\u001b[0m\n\u001b[0;32m     13\u001b[0m         \u001b[0mlen_\u001b[0m \u001b[1;33m=\u001b[0m \u001b[1;36m0\u001b[0m\u001b[1;33m\u001b[0m\u001b[1;33m\u001b[0m\u001b[0m\n",
      "\u001b[1;32m~\\Anaconda3\\envs\\myenv\\lib\\site-packages\\skimage\\color\\colorconv.py\u001b[0m in \u001b[0;36mrgb2gray\u001b[1;34m(rgb)\u001b[0m\n\u001b[0;32m    787\u001b[0m     \"\"\"\n\u001b[0;32m    788\u001b[0m \u001b[1;33m\u001b[0m\u001b[0m\n\u001b[1;32m--> 789\u001b[1;33m     \u001b[1;32mif\u001b[0m \u001b[0mrgb\u001b[0m\u001b[1;33m.\u001b[0m\u001b[0mndim\u001b[0m \u001b[1;33m==\u001b[0m \u001b[1;36m2\u001b[0m\u001b[1;33m:\u001b[0m\u001b[1;33m\u001b[0m\u001b[1;33m\u001b[0m\u001b[0m\n\u001b[0m\u001b[0;32m    790\u001b[0m         \u001b[1;32mreturn\u001b[0m \u001b[0mnp\u001b[0m\u001b[1;33m.\u001b[0m\u001b[0mascontiguousarray\u001b[0m\u001b[1;33m(\u001b[0m\u001b[0mrgb\u001b[0m\u001b[1;33m)\u001b[0m\u001b[1;33m\u001b[0m\u001b[1;33m\u001b[0m\u001b[0m\n\u001b[0;32m    791\u001b[0m \u001b[1;33m\u001b[0m\u001b[0m\n",
      "\u001b[1;31mAttributeError\u001b[0m: 'str' object has no attribute 'ndim'"
     ]
    }
   ],
   "source": [
    "x = fill_depth_colorization(imgRgb=orig, imgDepthInput=depth_map, alpha=1)"
   ]
  },
  {
   "cell_type": "code",
   "execution_count": 12,
   "metadata": {},
   "outputs": [
    {
     "ename": "NameError",
     "evalue": "name 'x' is not defined",
     "output_type": "error",
     "traceback": [
      "\u001b[1;31m---------------------------------------------------------------------------\u001b[0m",
      "\u001b[1;31mNameError\u001b[0m                                 Traceback (most recent call last)",
      "\u001b[1;32m<ipython-input-12-c3bdca05d9bc>\u001b[0m in \u001b[0;36m<module>\u001b[1;34m\u001b[0m\n\u001b[1;32m----> 1\u001b[1;33m \u001b[0mimshow\u001b[0m\u001b[1;33m(\u001b[0m\u001b[0mx\u001b[0m\u001b[1;33m)\u001b[0m\u001b[1;33m\u001b[0m\u001b[1;33m\u001b[0m\u001b[0m\n\u001b[0m",
      "\u001b[1;31mNameError\u001b[0m: name 'x' is not defined"
     ]
    }
   ],
   "source": [
    "imshow(x)"
   ]
  },
  {
   "cell_type": "code",
   "execution_count": 65,
   "metadata": {},
   "outputs": [
    {
     "name": "stdout",
     "output_type": "stream",
     "text": [
      "0.8115104669887279\n"
     ]
    }
   ],
   "source": [
    "nulls = np.sum(depth_map == -1)\n",
    "print(nulls / (depth_map.shape[0] * depth_map.shape[1]))"
   ]
  },
  {
   "cell_type": "code",
   "execution_count": 66,
   "metadata": {},
   "outputs": [
    {
     "data": {
      "text/plain": [
       "array([-1., -1., -1., ..., -1., -1., -1.])"
      ]
     },
     "execution_count": 66,
     "metadata": {},
     "output_type": "execute_result"
    }
   ],
   "source": [
    "depth_map[0]"
   ]
  },
  {
   "cell_type": "code",
   "execution_count": null,
   "metadata": {},
   "outputs": [],
   "source": []
  }
 ],
 "metadata": {
  "kernelspec": {
   "display_name": "Python 3",
   "language": "python",
   "name": "python3"
  },
  "language_info": {
   "codemirror_mode": {
    "name": "ipython",
    "version": 3
   },
   "file_extension": ".py",
   "mimetype": "text/x-python",
   "name": "python",
   "nbconvert_exporter": "python",
   "pygments_lexer": "ipython3",
   "version": "3.7.6"
  }
 },
 "nbformat": 4,
 "nbformat_minor": 4
}
