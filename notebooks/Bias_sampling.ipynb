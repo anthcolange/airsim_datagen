{
 "cells": [
  {
   "cell_type": "code",
   "execution_count": 106,
   "metadata": {},
   "outputs": [
    {
     "data": {
      "image/png": "[encoded data removed]",
      "text/plain": [
       "<Figure size 432x288 with 1 Axes>"
      ]
     },
     "metadata": {
      "needs_background": "light"
     },
     "output_type": "display_data"
    }
   ],
   "source": [
    "#Method not used\n",
    "import matplotlib.pyplot as plt\n",
    "import random\n",
    "from random import randrange \n",
    "import math\n",
    "len_cam_im_list = 30\n",
    "num_frames = 5\n",
    "end_bias = 0.8\n",
    "eps_greedy = 0.3\n",
    "\n",
    "iters = 1000\n",
    "start_inds = []\n",
    "\n",
    "\n",
    "for i in range(iters):\n",
    "    if len_cam_im_list >= 2*num_frames:\n",
    "        if random.uniform(0, 1) > eps_greedy:\n",
    "            clip_begin = (len_cam_im_list - 2*num_frames + 1) * end_bias\n",
    "            ind = randrange(math.floor(clip_begin), len_cam_im_list - 2*num_frames + 1) #Generate random index to begin grabbing frames from \n",
    "        else:\n",
    "            start_ind = randrange(len_cam_im_list - 2*num_frames + 1) #Generate random index to begin grabbing frames from \n",
    "        start_inds.append(start_ind)\n",
    "\n",
    "plt.figure()\n",
    "plt.hist(start_inds)\n",
    "plt.show()"
   ]
  },
  {
   "cell_type": "code",
   "execution_count": 108,
   "metadata": {},
   "outputs": [
    {
     "data": {
      "image/png": "[encoded data removed]",
      "text/plain": [
       "<Figure size 432x288 with 1 Axes>"
      ]
     },
     "metadata": {
      "needs_background": "light"
     },
     "output_type": "display_data"
    }
   ],
   "source": [
    "#Used method for bias sampling\n",
    "max = 30\n",
    "min = 0\n",
    "start_inds = []\n",
    "for i in range(1000):\n",
    "    ind = max -  math.floor(abs(random.random() - random.random()) * (1 + max - min) + min)\n",
    "    start_inds.append(ind)\n",
    "plt.figure()\n",
    "plt.hist(start_inds)\n",
    "plt.show()"
   ]
  },
  {
   "cell_type": "code",
   "execution_count": null,
   "metadata": {},
   "outputs": [],
   "source": []
  }
 ],
 "metadata": {
  "kernelspec": {
   "display_name": "Python 3",
   "language": "python",
   "name": "python3"
  },
  "language_info": {
   "codemirror_mode": {
    "name": "ipython",
    "version": 3
   },
   "file_extension": ".py",
   "mimetype": "text/x-python",
   "name": "python",
   "nbconvert_exporter": "python",
   "pygments_lexer": "ipython3",
   "version": "3.7.6"
  }
 },
 "nbformat": 4,
 "nbformat_minor": 4
}
